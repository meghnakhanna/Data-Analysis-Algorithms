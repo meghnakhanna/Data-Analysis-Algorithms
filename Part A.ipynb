{
 "cells": [
  {
   "cell_type": "markdown",
   "metadata": {},
   "source": [
    "## Part A: Document Clustering"
   ]
  },
  {
   "cell_type": "markdown",
   "metadata": {},
   "source": [
    "## Load required libraries"
   ]
  },
  {
   "cell_type": "code",
   "execution_count": 3,
   "metadata": {},
   "outputs": [
    {
     "name": "stdout",
     "output_type": "stream",
     "text": [
      "package 'SnowballC' successfully unpacked and MD5 sums checked\n",
      "\n",
      "The downloaded binary packages are in\n",
      "\tC:\\Users\\mkha0052\\AppData\\Local\\Temp\\RtmpM1oLZ0\\downloaded_packages\n"
     ]
    }
   ],
   "source": [
    "install.packages(\"SnowballC\")"
   ]
  },
  {
   "cell_type": "code",
   "execution_count": 4,
   "metadata": {},
   "outputs": [
    {
     "name": "stderr",
     "output_type": "stream",
     "text": [
      "also installing the dependencies 'NLP', 'slam'\n",
      "\n"
     ]
    },
    {
     "name": "stdout",
     "output_type": "stream",
     "text": [
      "package 'NLP' successfully unpacked and MD5 sums checked\n",
      "package 'slam' successfully unpacked and MD5 sums checked\n",
      "package 'tm' successfully unpacked and MD5 sums checked\n",
      "\n",
      "The downloaded binary packages are in\n",
      "\tC:\\Users\\mkha0052\\AppData\\Local\\Temp\\RtmpM1oLZ0\\downloaded_packages\n"
     ]
    }
   ],
   "source": [
    "install.packages(\"tm\")"
   ]
  },
  {
   "cell_type": "code",
   "execution_count": 5,
   "metadata": {},
   "outputs": [
    {
     "name": "stderr",
     "output_type": "stream",
     "text": [
      "Loading required package: NLP\n",
      "\n",
      "Attaching package: 'dplyr'\n",
      "\n",
      "The following objects are masked from 'package:stats':\n",
      "\n",
      "    filter, lag\n",
      "\n",
      "The following objects are masked from 'package:base':\n",
      "\n",
      "    intersect, setdiff, setequal, union\n",
      "\n"
     ]
    }
   ],
   "source": [
    "library(SnowballC)\n",
    "library(tm)\n",
    "library(dplyr)"
   ]
  },
  {
   "cell_type": "markdown",
   "metadata": {},
   "source": [
    "## Read The Required Datasets using the function provided.\n",
    "\n",
    "* Load the corpus;\n",
    "* Preprocess the data, which involves :\n",
    "    * removing stopwords,punctuations and redundant spaces;\n",
    "    * removing alphanumeric charachters;\n",
    "    * Perform Stemming on the words of the document;\n",
    "    * converting the entire dataset into lowercase;\n",
    "    *  Create a matrix which its rows are the documents and colomns are the words;\n",
    "    * Remove sparse terms i.e. relative document frequency for a term\n",
    "    "
   ]
  },
  {
   "cell_type": "code",
   "execution_count": 12,
   "metadata": {},
   "outputs": [],
   "source": [
    "#You are welcome to use this code for your submission if you would like to; otherwise, you are welcome to use your own code that you have developed so far. \n",
    "\n",
    "# The main aim is to help you folks to move forward to interesting parts of the Assessment, and to not get stuck in some implementation details.\n",
    "# Carefully note the comments throughout the code, particularly theo nes relating to handle small numbers in the log space and how to prevent NaN \n",
    "# when normalising a non-negative vector to get probability distribution. \n",
    "#========\n",
    "\n",
    "\n",
    "# You may need to install some packages:\n",
    "#install.packages('tm')\n",
    "#install.packages('SnowballC')\n",
    "\n",
    "eps=1e-10\n",
    "  \n",
    "# reading the data\n",
    "read.data <- function(file.name='dataset/Task2A.txt', sample.size=1000, seed=100, pre.proc=TRUE, spr.ratio= 0.90) {\n",
    "  # INPUTS:\n",
    "  ## file.name: name of the input .txt file\n",
    "  ## sample.size: if == 0  reads all docs, otherwise only reads a subset of the corpus\n",
    "  ## seed: random seed for sampling (read above)\n",
    "  ## pre.proc: if TRUE performs the preprocessing (recommended)\n",
    "  ## spr.ratio: is used to reduce the sparcity of data by removing very infrequent words\n",
    "  # OUTPUTS:\n",
    "  ## docs: the unlabled corpus (each row is a document)\n",
    "  ## word.doc.mat: the count matrix (each rows and columns corresponds to words and documents, respectively)\n",
    "  ## label: the real cluster labels (will be used in visualization/validation and not for clustering)\n",
    "  \n",
    "  # Read the data\n",
    "  text <- readLines(file.name)\n",
    "  # select a subset of data if sample.size > 0\n",
    "  if (sample.size>0){\n",
    "    set.seed(seed)\n",
    "    text <- text[sample(length(text), sample.size)]\n",
    "  }\n",
    "  ## the terms before the first '\\t' are the lables (the newsgroup names) and all the remaining text after '\\t' are the actual documents\n",
    "  docs <- strsplit(text, '\\t')\n",
    "  # store the labels for evaluation\n",
    "  labels <-  unlist(lapply(docs, function(x) x[1]))\n",
    "  # store the unlabeled texts    \n",
    "  docs <- data.frame(doc_id=1:length(docs),text=unlist(lapply(docs, function(x) x[2])))\n",
    "\n",
    "  library(tm)\n",
    "  # create a corpus\n",
    "  docs <- DataframeSource(docs)\n",
    "  corp <- Corpus(docs)\n",
    "  \n",
    "  # Preprocessing:\n",
    "  if (pre.proc){\n",
    "    corp <- tm_map(corp, removeWords, stopwords(\"english\")) # remove stop words (the most common word in a language that can be find in any document)\n",
    "    corp <- tm_map(corp, removePunctuation) # remove pnctuation\n",
    "    corp <- tm_map(corp, stemDocument) # perform stemming (reducing inflected and derived words to their root form)\n",
    "    corp <- tm_map(corp, removeNumbers) # remove all numbers\n",
    "    corp <- tm_map(corp, stripWhitespace) # remove redundant spaces \n",
    "  }  \n",
    "  # Create a matrix which its rows are the documents and colomns are the words. \n",
    "  dtm <- DocumentTermMatrix(corp)\n",
    "  ## reduce the sparcity of out dtm\n",
    "  dtm <- removeSparseTerms(dtm, spr.ratio)\n",
    "  ## convert dtm to a matrix\n",
    "  word.doc.mat <- t(as.matrix(dtm))\n",
    "  \n",
    "                                   \n",
    "  # Return the result\n",
    "  return (list(\"docs\" = docs, \"word.doc.mat\"= word.doc.mat, \"labels\" = labels))\n",
    "}"
   ]
  },
  {
   "cell_type": "code",
   "execution_count": 13,
   "metadata": {},
   "outputs": [],
   "source": [
    "text_data <- read.data(file.name='Task2A.txt', sample.size=0, seed=100, pre.proc=TRUE, spr.ratio= .99)"
   ]
  },
  {
   "cell_type": "markdown",
   "metadata": {},
   "source": [
    "## Implement the hard EM and soft EM ."
   ]
  },
  {
   "cell_type": "markdown",
   "metadata": {},
   "source": [
    "#### Helper Functions"
   ]
  },
  {
   "cell_type": "code",
   "execution_count": 19,
   "metadata": {},
   "outputs": [],
   "source": [
    "# Input:    logA1, logA2 ... logAn\n",
    "# Output:   log(A1+A2+...+An)\n",
    "#\n",
    "# This function is needed to prevent numerical overflow/underflow when working with small numbers, \n",
    "# because we can easily get small numbers by multiplying p1 * p2 * ... * pn (where 0 <= pi <= 1 are probabilities).   \n",
    "#\n",
    "# Example: Suppose we are interested in p1*p2*p3 + q1*q2+q3 where all numbers are probabilities \\in [0,1]\n",
    "#          To prevent numerical errors, we do the computation in the log space and convert the result back using the exp function \n",
    "#          Hence our approach is to form the vector v = [log(p1)+log(p2)+log(p3) , log(q1)+log(q2)+log(q3)] \n",
    "#          Then get the results by: exp(logSum(v))\n",
    "logSum <- function(v) {\n",
    "   m = max(v)\n",
    "   return ( m + log(sum(exp(v-m))))\n",
    "}"
   ]
  },
  {
   "cell_type": "code",
   "execution_count": 20,
   "metadata": {},
   "outputs": [],
   "source": [
    "##--- Initialize model parameters randomly --------------------------------------------\n",
    "initial.param <- function(vocab_size, K=4, seed=123456){\n",
    "  rho <- matrix(1/K,nrow = K, ncol=1)                    # assume all clusters have the same size (we will update this later on)\n",
    "  mu <- matrix(runif(K*vocab_size),nrow = K, ncol = vocab_size)    # initiate Mu \n",
    "  mu <- prop.table(mu, margin = 1)               # normalization to ensure that sum of each row is 1\n",
    "  return (list(\"rho\" = rho, \"mu\"= mu))\n",
    "}"
   ]
  },
  {
   "cell_type": "markdown",
   "metadata": {},
   "source": [
    "## Hard EM"
   ]
  },
  {
   "cell_type": "code",
   "execution_count": 52,
   "metadata": {},
   "outputs": [],
   "source": [
    "#Estimation function for Hard Max\n",
    "E_hard.step <- function(gamma, model, counts){\n",
    "  # Model Parameter Setting\n",
    "  N <- dim(counts)[2] # number of documents\n",
    "  K <- dim(model$mu)[1]\n",
    "  # E step:    \n",
    "  for (n in 1:N){\n",
    "    for (k in 1:K){\n",
    "      ## calculate the posterior based on the estimated mu and rho in the \"log space\"\n",
    "      gamma[n,k] <- log(model$rho[k,1]) +  sum(counts[,n] * log(model$mu[k,])) \n",
    "    }\n",
    "    # normalisation to sum to 1 in the log space\n",
    "    \n",
    "    logZ = logSum(gamma[n,])\n",
    "    gamma[n,] = gamma[n,] - logZ\n",
    "    \n",
    "  \n",
    "  }\n",
    "  #hard EM\n",
    "  # Zn,k =1 if the document/datapoint belongfs to that cluster otherwise 0, so we calculate the posterior \n",
    "# probability that is gamma so basically the maximum probability of a document lying in a specific cluster\n",
    "# means it is most likely to be in that cluster and then the in zn,k the value of that specific cluster for that datapoint\n",
    "## becomes 1.\n",
    "    max_cluster_probabilty <- gamma==apply(gamma, 1, max) # for each point find the cluster with the maximum (estimated) probability\n",
    "    gamma[ max_cluster_probabilty] <- 1 # assign each point to the cluster with the highest probability and update the zn,k for that cluster to 1\n",
    "    gamma[! max_cluster_probabilty] <- 0 # else 0\n",
    "\n",
    "    return (gamma)\n",
    "}"
   ]
  },
  {
   "cell_type": "code",
   "execution_count": null,
   "metadata": {},
   "outputs": [],
   "source": []
  },
  {
   "cell_type": "markdown",
   "metadata": {},
   "source": [
    "## Soft EM"
   ]
  },
  {
   "cell_type": "code",
   "execution_count": 27,
   "metadata": {},
   "outputs": [],
   "source": [
    "##--- E Step for Document Clustering  --------------------------------------------\n",
    "# this function currently implements the E-step of the soft-EM\n",
    "# Student needs to modify this function if wants to make it Hard-EM \n",
    "#\n",
    "E_soft.step <- function(gamma, model, counts){\n",
    "  # Model Parameter Setting\n",
    "  N <- dim(counts)[2] # number of documents\n",
    "  K <- dim(model$mu)[1]\n",
    "\n",
    "  # E step:    \n",
    "  for (n in 1:N){\n",
    "    for (k in 1:K){\n",
    "      ## calculate the posterior based on the estimated mu and rho in the \"log space\"\n",
    "      gamma[n,k] <- log(model$rho[k,1]) +  sum(counts[,n] * log(model$mu[k,])) \n",
    "    }\n",
    "    # normalisation to sum to 1 in the log space\n",
    "    logZ = logSum(gamma[n,])\n",
    "    gamma[n,] = gamma[n,] - logZ\n",
    "  }\n",
    "  \n",
    "  # converting back from the log space \n",
    "  gamma <- exp(gamma)\n",
    "  return (gamma)\n",
    "}"
   ]
  },
  {
   "cell_type": "markdown",
   "metadata": {},
   "source": [
    "## Maximization Step for Hard and Soft EM"
   ]
  },
  {
   "cell_type": "code",
   "execution_count": 42,
   "metadata": {},
   "outputs": [],
   "source": [
    "##--- M Step for Hard EM  --------------------------------------------\n",
    "M.step <- function(gamma, model, counts){\n",
    "  # Model Parameter Setting\n",
    "  N <- dim(counts)[2]   # number of documents\n",
    "  W <- dim(counts)[1]   # number of words i.e. vocabulary size\n",
    "  K <- dim(model$mu)[1] # number of clusters\n",
    "  Nk.hat<-model$rho\n",
    "  mu<-model$mu\n",
    "    for (k in 1:K){\n",
    "        \n",
    "        # the effective number of point in cluster k\n",
    "        \n",
    "      \n",
    "         Nk.hat[k]<-sum(gamma[,k])/N \n",
    "    }\n",
    "    # assign that probability of each cluster\n",
    "    model$rho<- Nk.hat\n",
    "   \n",
    "    for (k in 1:K){\n",
    "        \n",
    "       for (w in 1:W)\n",
    "        {     \n",
    "    # calculate probability of each word belonging to the all of the three clusters\n",
    "# # this prevents NaN for vectors where all elements are zero such as [0,0,0] because after adding eps you have [eps,eps,eps] which \n",
    "  # results in the uniform distribution after normalisation. \n",
    "            val<-(counts[w,] * gamma[,k]) + eps\n",
    "            mu[k,w]<-sum(val* gamma[,k])/(sum(counts * gamma[,k])+K*eps)\n",
    "          \n",
    "          \n",
    "       }\n",
    "      \n",
    "        \n",
    "    }\n",
    "  #NORMALIZE it to one \n",
    "    model$mu<-prop.table(mu, margin = 1)\n",
    "    \n",
    "    \n",
    "  \n",
    "  # Return the result\n",
    "  return (model)\n",
    "}\n",
    "    \n",
    "    "
   ]
  },
  {
   "cell_type": "code",
   "execution_count": null,
   "metadata": {},
   "outputs": [],
   "source": []
  },
  {
   "cell_type": "code",
   "execution_count": 46,
   "metadata": {},
   "outputs": [],
   "source": [
    "##--- EM for Document Clustering --------------------------------------------\n",
    "EM <- function(counts, K=4, max.epoch=10,method, seed=123456){\n",
    "  #INPUTS:\n",
    "  ## counts: word count matrix\n",
    "  ## K: the number of clusters\n",
    "  #OUTPUTS:\n",
    "  ## model: a list of model parameters\n",
    " if (method=='Soft EM') {\n",
    "     \n",
    "\n",
    "  # Model Parameter Setting\n",
    "  N <- dim(counts)[2] # number of documents\n",
    "  W <- dim(counts)[1] # number of unique words (in all documents)\n",
    "  \n",
    "  # Initialization\n",
    "  model <- initial.param(W, K=K, seed=seed)\n",
    "  gamma <- matrix(0, nrow = N, ncol = K)\n",
    "\n",
    "  print(train_obj(model,counts))\n",
    "  # Build the model\n",
    "  for(epoch in 1:max.epoch){\n",
    "    \n",
    "    # E Step\n",
    "    gamma <- E_soft.step(gamma, model, counts)\n",
    "    # M Step\n",
    "    model <- M.step(gamma, model, counts)\n",
    "   \n",
    "     \n",
    "  }\n",
    "  # Return Model\n",
    "  return(list(\"model\"=model,\"gamma\"=gamma))\n",
    "}\n",
    "    \n",
    "else if(method=='Hard EM')\n",
    "{\n",
    "    \n",
    "  #INPUTS:\n",
    "  ## counts: word count matrix\n",
    "  ## K: the number of clusters\n",
    "  #OUTPUTS:\n",
    "  ## model: a list of model parameters\n",
    "  \n",
    "  # Model Parameter Setting\n",
    "  N <- dim(counts)[2] # number of documents\n",
    "  W <- dim(counts)[1] # number of unique words (in all documents)\n",
    "  \n",
    "  # Initialization\n",
    "  model <- initial.param(W, K=K, seed=seed)\n",
    "  gamma <- matrix(0, nrow = N, ncol = K)\n",
    "\n",
    "  print(train_obj(model,counts))\n",
    "  # Build the model\n",
    "  for(epoch in 1:max.epoch){\n",
    "    \n",
    "    # E Step\n",
    "    gamma <- E_hard.step(gamma, model, counts)\n",
    "    # M Step\n",
    "    model <- M.step(gamma, model, counts)\n",
    "   \n",
    "   \n",
    "  }\n",
    "  # Return Model\n",
    "  return(list(\"model\"=model,\"gamma\"=gamma))\n",
    "}\n",
    "}\n",
    "    "
   ]
  },
  {
   "cell_type": "code",
   "execution_count": null,
   "metadata": {},
   "outputs": [],
   "source": []
  },
  {
   "cell_type": "code",
   "execution_count": 47,
   "metadata": {},
   "outputs": [],
   "source": [
    "##--- the training objective function --------------------------------------------\n",
    "# Input: \n",
    "#    model:  the model object containing the mu and rho\n",
    "#    counts: the word-document frequency matrix\n",
    "# Output:\n",
    "#    nloglike: the negative log-likelihood i.e. log P(counts|model) \n",
    "#   \n",
    "train_obj <- function(model, counts) { \n",
    "  N <- dim(counts)[2] # number of documents\n",
    "  K <- dim(model$mu)[1]\n",
    "   \n",
    "  nloglike = 0\n",
    "  for (n in 1:N){\n",
    "    lprob <- matrix(0,ncol = 1, nrow=K)\n",
    "    for (k in 1:K){\n",
    "      lprob[k,1] = sum(counts[,n] * log(model$mu[k,])) \n",
    "    }\n",
    "    nloglike <- nloglike - logSum(lprob + log(model$rho))\n",
    "  }\n",
    "  \n",
    "  return (nloglike)\n",
    "}"
   ]
  },
  {
   "cell_type": "code",
   "execution_count": 48,
   "metadata": {},
   "outputs": [],
   "source": [
    "##--- Cluster Visualization -------------------------------------------------\n",
    "cluster.viz <- function(doc.word.mat, color.vector, title=' '){\n",
    "  p.comp <- prcomp(doc.word.mat, scale. = TRUE, center = TRUE)\n",
    "  plot(p.comp$x, col=color.vector, pch=1,  main=title)\n",
    "}"
   ]
  },
  {
   "cell_type": "code",
   "execution_count": 50,
   "metadata": {},
   "outputs": [
    {
     "name": "stdout",
     "output_type": "stream",
     "text": [
      "[1] 2172100\n"
     ]
    },
    {
     "data": {
      "image/png": "[encoded data removed]",
      "text/plain": [
       "Plot with title \"Estimated Clusters (Soft EM)\""
      ]
     },
     "metadata": {},
     "output_type": "display_data"
    }
   ],
   "source": [
    "# word-document frequency matrix \n",
    "counts <- text_data$word.doc.mat        \n",
    "# below is toy data if you want to work with\n",
    "# counts <- matrix(c(1,1,0,1,0,0,0,1,1,1,0,1,0,0,1,1,0,0),nrow=3,ncol=6)\n",
    "# calling the EM algorithm on the data\n",
    "res <- EM(counts, K=4, max.epoch=5,'Soft EM')   \n",
    "\n",
    "# visualization\n",
    "## find the cluster with the maximum probability (since we have soft assignment here)\n",
    "label.hat <- apply(res$gamma, 1, which.max) \n",
    "## normalize the count matrix for better visualization\n",
    "counts<-scale(counts) # only use when the dimensionality of the data (number of words) is large enough\n",
    "\n",
    "## visualize the stimated clusters\n",
    "cluster.viz(t(counts), label.hat, 'Estimated Clusters (Soft EM)')\n"
   ]
  },
  {
   "cell_type": "code",
   "execution_count": 53,
   "metadata": {},
   "outputs": [
    {
     "name": "stdout",
     "output_type": "stream",
     "text": [
      "[1] 2178511\n"
     ]
    },
    {
     "data": {
      "image/png": "[encoded data removed]",
      "text/plain": [
       "Plot with title \"Estimated Clusters (Hard EM)\""
      ]
     },
     "metadata": {},
     "output_type": "display_data"
    },
    {
     "data": {
      "image/png": "[encoded data removed]",
      "text/plain": [
       "Plot with title \"Real Clusters\""
      ]
     },
     "metadata": {},
     "output_type": "display_data"
    }
   ],
   "source": [
    "# word-document frequency matrix \n",
    "counts <- text_data$word.doc.mat \n",
    "\n",
    "# below is toy data if you want to work with\n",
    "#counts <- matrix(c(1,1,0,1,0,0,0,1,1,1,0,1,0,0,1,1,0,0),nrow=3,ncol=6)\n",
    "# calling the EM algorithm on the data\n",
    "res <- EM(counts, K=4, max.epoch=4,'Hard EM')   \n",
    "\n",
    "# visualization\n",
    "## find the culster with the maximum probability (since we have soft assignment here)\n",
    "label.hat <- apply(res$gamma, 1, which.max) \n",
    "## normalize the count matrix for better visualization\n",
    "counts<-scale(counts) # only use when the dimensionality of the data (number of words) is large enough\n",
    "## visualize the estimated clusters\n",
    "cluster.viz(t(counts), label.hat, 'Estimated Clusters (Hard EM)')\n",
    "\n",
    "## visualize the real clusters\n",
    "cluster.viz(t(counts), factor(text_data$label), 'Real Clusters')"
   ]
  },
  {
   "cell_type": "code",
   "execution_count": null,
   "metadata": {},
   "outputs": [],
   "source": []
  }
 ],
 "metadata": {
  "kernelspec": {
   "display_name": "R",
   "language": "R",
   "name": "ir"
  },
  "language_info": {
   "codemirror_mode": "r",
   "file_extension": ".r",
   "mimetype": "text/x-r-source",
   "name": "R",
   "pygments_lexer": "r",
   "version": "3.4.4"
  }
 },
 "nbformat": 4,
 "nbformat_minor": 2
}
