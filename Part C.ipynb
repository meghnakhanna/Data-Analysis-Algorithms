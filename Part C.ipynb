{
 "cells": [
  {
   "cell_type": "markdown",
   "metadata": {},
   "source": [
    "## Self-Taught Learning"
   ]
  },
  {
   "cell_type": "markdown",
   "metadata": {},
   "source": [
    "## Part -1"
   ]
  },
  {
   "cell_type": "markdown",
   "metadata": {},
   "source": [
    "### Install required packages"
   ]
  },
  {
   "cell_type": "code",
   "execution_count": 1,
   "metadata": {},
   "outputs": [
    {
     "name": "stderr",
     "output_type": "stream",
     "text": [
      "Removing package from 'C:/Users/mkha0052/AppData/Local/Continuum/anaconda3/envs/DAA/Lib/R/library'\n",
      "(as 'lib' is unspecified)\n"
     ]
    },
    {
     "name": "stdout",
     "output_type": "stream",
     "text": [
      "package 'BBmisc' successfully unpacked and MD5 sums checked\n",
      "\n",
      "The downloaded binary packages are in\n",
      "\tC:\\Users\\mkha0052\\AppData\\Local\\Temp\\RtmpwXi1VJ\\downloaded_packages\n"
     ]
    }
   ],
   "source": [
    "## The following two commands remove any previously installed H2O packages for R.\n",
    "if (\"package:h2o\" %in% search()) { detach(\"package:h2o\", unload=TRUE) }\n",
    "if (\"h2o\" %in% rownames(installed.packages())) { remove.packages(\"h2o\") }\n",
    "pkgs <- c(\"RCurl\",\"jsonlite\")\n",
    "### Next, download packages that H2O depends on.\n",
    "for (pkg in pkgs) {\n",
    "  if (! (pkg %in% rownames(installed.packages()))) { install.packages(pkg) }\n",
    "}\n",
    "## Download and install the H2O package for R.\n",
    "install.packages(\"h2o\", type=\"source\", repos=(c(\"http://h2o-release.s3.amazonaws.com/h2o/latest_stable_R\")))\n",
    "install.packages(\"BBmisc\")"
   ]
  },
  {
   "cell_type": "markdown",
   "metadata": {},
   "source": [
    "## Load the required libraries"
   ]
  },
  {
   "cell_type": "code",
   "execution_count": 2,
   "metadata": {},
   "outputs": [
    {
     "name": "stderr",
     "output_type": "stream",
     "text": [
      "Registered S3 methods overwritten by 'ggplot2':\n",
      "  method         from \n",
      "  [.quosures     rlang\n",
      "  c.quosures     rlang\n",
      "  print.quosures rlang\n",
      "\n",
      "Attaching package: 'BBmisc'\n",
      "\n",
      "The following object is masked from 'package:base':\n",
      "\n",
      "    isFALSE\n",
      "\n",
      "\n",
      "----------------------------------------------------------------------\n",
      "\n",
      "Your next step is to start H2O:\n",
      "    > h2o.init()\n",
      "\n",
      "For H2O package documentation, ask for help:\n",
      "    > ??h2o\n",
      "\n",
      "After starting H2O, you can use the Web UI at http://localhost:54321\n",
      "For more information visit http://docs.h2o.ai\n",
      "\n",
      "----------------------------------------------------------------------\n",
      "\n",
      "\n",
      "Attaching package: 'h2o'\n",
      "\n",
      "The following objects are masked from 'package:stats':\n",
      "\n",
      "    cor, sd, var\n",
      "\n",
      "The following objects are masked from 'package:base':\n",
      "\n",
      "    %*%, %in%, &&, ||, apply, as.factor, as.numeric, colnames,\n",
      "    colnames<-, ifelse, is.character, is.factor, is.numeric, log,\n",
      "    log10, log1p, log2, round, signif, trunc\n",
      "\n"
     ]
    },
    {
     "name": "stdout",
     "output_type": "stream",
     "text": [
      "\n",
      "H2O is not running yet, starting it now...\n",
      "\n",
      "Note:  In case of errors look at the following log files:\n",
      "    C:\\Users\\mkha0052\\AppData\\Local\\Temp\\RtmpwXi1VJ/h2o_mkha0052_started_from_r.out\n",
      "    C:\\Users\\mkha0052\\AppData\\Local\\Temp\\RtmpwXi1VJ/h2o_mkha0052_started_from_r.err\n",
      "\n",
      "\n",
      "Starting H2O JVM and connecting:  Connection successful!\n",
      "\n",
      "R is connected to the H2O cluster: \n",
      "    H2O cluster uptime:         1 seconds 553 milliseconds \n",
      "    H2O cluster timezone:       Australia/Sydney \n",
      "    H2O data parsing timezone:  UTC \n",
      "    H2O cluster version:        3.26.0.8 \n",
      "    H2O cluster version age:    15 hours and 53 minutes  \n",
      "    H2O cluster name:           H2O_started_from_R_mkha0052_quj245 \n",
      "    H2O cluster total nodes:    1 \n",
      "    H2O cluster total memory:   5.33 GB \n",
      "    H2O cluster total cores:    4 \n",
      "    H2O cluster allowed cores:  4 \n",
      "    H2O cluster healthy:        TRUE \n",
      "    H2O Connection ip:          localhost \n",
      "    H2O Connection port:        54321 \n",
      "    H2O Connection proxy:       NA \n",
      "    H2O Internal Security:      FALSE \n",
      "    H2O API Extensions:         Amazon S3, Algos, AutoML, Core V3, TargetEncoder, Core V4 \n",
      "    R Version:                  R version 3.6.1 (2019-07-05) \n",
      "\n"
     ]
    }
   ],
   "source": [
    "library(ggplot2)\n",
    "library(BBmisc)\n",
    "library(h2o)\n",
    "options(warn=-1)\n",
    "#If there is a proxy: proxy.old <- Sys.getenv('http_proxy'); Sys.setenv('http_proxy'='');\n",
    "localH2O =  h2o.init(nthreads = -1, port = 54321, max_mem_size = '6G', startH2O = TRUE)\n",
    "library(tidyr)\n"
   ]
  },
  {
   "cell_type": "markdown",
   "metadata": {},
   "source": [
    "## Auxillary Functions"
   ]
  },
  {
   "cell_type": "markdown",
   "metadata": {},
   "source": [
    "## Error Function"
   ]
  },
  {
   "cell_type": "code",
   "execution_count": 3,
   "metadata": {},
   "outputs": [],
   "source": [
    "## Load the required datasets that is Task 2C_labeled.csv and Task2C_unlabeled.csv\n",
    "\n",
    "labelled_train <- read.csv('Task2C_labeled.csv')\n",
    "unlabelled_train <- read.csv('Task2C_unlabeled.csv')\n",
    "\n"
   ]
  },
  {
   "cell_type": "code",
   "execution_count": 4,
   "metadata": {},
   "outputs": [
    {
     "data": {
      "text/html": [
       "<table>\n",
       "<thead><tr><th scope=col>label</th><th scope=col>pixel0</th><th scope=col>pixel1</th><th scope=col>pixel2</th><th scope=col>pixel3</th><th scope=col>pixel4</th><th scope=col>pixel5</th><th scope=col>pixel6</th><th scope=col>pixel7</th><th scope=col>pixel8</th><th scope=col>...</th><th scope=col>pixel774</th><th scope=col>pixel775</th><th scope=col>pixel776</th><th scope=col>pixel777</th><th scope=col>pixel778</th><th scope=col>pixel779</th><th scope=col>pixel780</th><th scope=col>pixel781</th><th scope=col>pixel782</th><th scope=col>pixel783</th></tr></thead>\n",
       "<tbody>\n",
       "\t<tr><td>0  </td><td>0  </td><td>0  </td><td>0  </td><td>0  </td><td>0  </td><td>0  </td><td>0  </td><td>0  </td><td>0  </td><td>...</td><td>0  </td><td>0  </td><td>0  </td><td>0  </td><td>0  </td><td>0  </td><td>0  </td><td>0  </td><td>0  </td><td>0  </td></tr>\n",
       "\t<tr><td>0  </td><td>0  </td><td>0  </td><td>0  </td><td>0  </td><td>0  </td><td>0  </td><td>0  </td><td>0  </td><td>0  </td><td>...</td><td>0  </td><td>0  </td><td>0  </td><td>0  </td><td>0  </td><td>0  </td><td>0  </td><td>0  </td><td>0  </td><td>0  </td></tr>\n",
       "\t<tr><td>0  </td><td>0  </td><td>0  </td><td>0  </td><td>0  </td><td>0  </td><td>0  </td><td>0  </td><td>0  </td><td>0  </td><td>...</td><td>0  </td><td>0  </td><td>0  </td><td>0  </td><td>0  </td><td>0  </td><td>0  </td><td>0  </td><td>0  </td><td>0  </td></tr>\n",
       "\t<tr><td>0  </td><td>0  </td><td>0  </td><td>0  </td><td>0  </td><td>0  </td><td>0  </td><td>0  </td><td>0  </td><td>0  </td><td>...</td><td>0  </td><td>0  </td><td>0  </td><td>0  </td><td>0  </td><td>0  </td><td>0  </td><td>0  </td><td>0  </td><td>0  </td></tr>\n",
       "\t<tr><td>0  </td><td>0  </td><td>0  </td><td>0  </td><td>0  </td><td>0  </td><td>0  </td><td>0  </td><td>0  </td><td>0  </td><td>...</td><td>0  </td><td>0  </td><td>0  </td><td>0  </td><td>0  </td><td>0  </td><td>0  </td><td>0  </td><td>0  </td><td>0  </td></tr>\n",
       "\t<tr><td>1  </td><td>0  </td><td>0  </td><td>0  </td><td>0  </td><td>0  </td><td>0  </td><td>0  </td><td>0  </td><td>0  </td><td>...</td><td>0  </td><td>0  </td><td>0  </td><td>0  </td><td>0  </td><td>0  </td><td>0  </td><td>0  </td><td>0  </td><td>0  </td></tr>\n",
       "</tbody>\n",
       "</table>\n"
      ],
      "text/latex": [
       "\\begin{tabular}{r|lllllllllllllllllllllllllllllllllllllllllllllllllllllllllllllllllllllllllllllllllllllllllllllllllllllllllllllllllllllllllllllllllllllllllllllllllllllllllllllllllllllllllllllllllllllllllllllllllllllllllllllllllllllllllllllllllllllllllllllllllllllllllllllllllllllllllllllllllllllllllllllllllllllllllllllllllllllllllllllllllllllllllllllllllllllllllllllllllllllllllllllllllllllllllllllllllllllllllllllllllllllllllllllllllllllllllllllllllllllllllllllllllllllllllllllllllllllllllllllllllllllllllllllllllllllllllllllllllllllllllllllllllllllllllllllllllllllllllllllllllllllllllllllllllllllllllllllllllllllllllllllllllllllllllllllllllllllllllllllllllllllllllllllllllllllllllllllllllllllllllllllllllllllllllllllllllllllllllllllllllllllllllllllllllllllllllllllllllllllllllllllllllllllllllllllllll}\n",
       " label & pixel0 & pixel1 & pixel2 & pixel3 & pixel4 & pixel5 & pixel6 & pixel7 & pixel8 & ... & pixel774 & pixel775 & pixel776 & pixel777 & pixel778 & pixel779 & pixel780 & pixel781 & pixel782 & pixel783\\\\\n",
       "\\hline\n",
       "\t 0   & 0   & 0   & 0   & 0   & 0   & 0   & 0   & 0   & 0   & ... & 0   & 0   & 0   & 0   & 0   & 0   & 0   & 0   & 0   & 0  \\\\\n",
       "\t 0   & 0   & 0   & 0   & 0   & 0   & 0   & 0   & 0   & 0   & ... & 0   & 0   & 0   & 0   & 0   & 0   & 0   & 0   & 0   & 0  \\\\\n",
       "\t 0   & 0   & 0   & 0   & 0   & 0   & 0   & 0   & 0   & 0   & ... & 0   & 0   & 0   & 0   & 0   & 0   & 0   & 0   & 0   & 0  \\\\\n",
       "\t 0   & 0   & 0   & 0   & 0   & 0   & 0   & 0   & 0   & 0   & ... & 0   & 0   & 0   & 0   & 0   & 0   & 0   & 0   & 0   & 0  \\\\\n",
       "\t 0   & 0   & 0   & 0   & 0   & 0   & 0   & 0   & 0   & 0   & ... & 0   & 0   & 0   & 0   & 0   & 0   & 0   & 0   & 0   & 0  \\\\\n",
       "\t 1   & 0   & 0   & 0   & 0   & 0   & 0   & 0   & 0   & 0   & ... & 0   & 0   & 0   & 0   & 0   & 0   & 0   & 0   & 0   & 0  \\\\\n",
       "\\end{tabular}\n"
      ],
      "text/markdown": [
       "\n",
       "| label | pixel0 | pixel1 | pixel2 | pixel3 | pixel4 | pixel5 | pixel6 | pixel7 | pixel8 | ... | pixel774 | pixel775 | pixel776 | pixel777 | pixel778 | pixel779 | pixel780 | pixel781 | pixel782 | pixel783 |\n",
       "|---|---|---|---|---|---|---|---|---|---|---|---|---|---|---|---|---|---|---|---|---|\n",
       "| 0   | 0   | 0   | 0   | 0   | 0   | 0   | 0   | 0   | 0   | ... | 0   | 0   | 0   | 0   | 0   | 0   | 0   | 0   | 0   | 0   |\n",
       "| 0   | 0   | 0   | 0   | 0   | 0   | 0   | 0   | 0   | 0   | ... | 0   | 0   | 0   | 0   | 0   | 0   | 0   | 0   | 0   | 0   |\n",
       "| 0   | 0   | 0   | 0   | 0   | 0   | 0   | 0   | 0   | 0   | ... | 0   | 0   | 0   | 0   | 0   | 0   | 0   | 0   | 0   | 0   |\n",
       "| 0   | 0   | 0   | 0   | 0   | 0   | 0   | 0   | 0   | 0   | ... | 0   | 0   | 0   | 0   | 0   | 0   | 0   | 0   | 0   | 0   |\n",
       "| 0   | 0   | 0   | 0   | 0   | 0   | 0   | 0   | 0   | 0   | ... | 0   | 0   | 0   | 0   | 0   | 0   | 0   | 0   | 0   | 0   |\n",
       "| 1   | 0   | 0   | 0   | 0   | 0   | 0   | 0   | 0   | 0   | ... | 0   | 0   | 0   | 0   | 0   | 0   | 0   | 0   | 0   | 0   |\n",
       "\n"
      ],
      "text/plain": [
       "  label pixel0 pixel1 pixel2 pixel3 pixel4 pixel5 pixel6 pixel7 pixel8 ...\n",
       "1 0     0      0      0      0      0      0      0      0      0      ...\n",
       "2 0     0      0      0      0      0      0      0      0      0      ...\n",
       "3 0     0      0      0      0      0      0      0      0      0      ...\n",
       "4 0     0      0      0      0      0      0      0      0      0      ...\n",
       "5 0     0      0      0      0      0      0      0      0      0      ...\n",
       "6 1     0      0      0      0      0      0      0      0      0      ...\n",
       "  pixel774 pixel775 pixel776 pixel777 pixel778 pixel779 pixel780 pixel781\n",
       "1 0        0        0        0        0        0        0        0       \n",
       "2 0        0        0        0        0        0        0        0       \n",
       "3 0        0        0        0        0        0        0        0       \n",
       "4 0        0        0        0        0        0        0        0       \n",
       "5 0        0        0        0        0        0        0        0       \n",
       "6 0        0        0        0        0        0        0        0       \n",
       "  pixel782 pixel783\n",
       "1 0        0       \n",
       "2 0        0       \n",
       "3 0        0       \n",
       "4 0        0       \n",
       "5 0        0       \n",
       "6 0        0       "
      ]
     },
     "metadata": {},
     "output_type": "display_data"
    }
   ],
   "source": [
    "head(labelled_train)  # a glimpse of the training data"
   ]
  },
  {
   "cell_type": "code",
   "execution_count": 5,
   "metadata": {},
   "outputs": [
    {
     "data": {
      "text/html": [
       "<table>\n",
       "<thead><tr><th scope=col>label</th><th scope=col>pixel0</th><th scope=col>pixel1</th><th scope=col>pixel2</th><th scope=col>pixel3</th><th scope=col>pixel4</th><th scope=col>pixel5</th><th scope=col>pixel6</th><th scope=col>pixel7</th><th scope=col>pixel8</th><th scope=col>...</th><th scope=col>pixel774</th><th scope=col>pixel775</th><th scope=col>pixel776</th><th scope=col>pixel777</th><th scope=col>pixel778</th><th scope=col>pixel779</th><th scope=col>pixel780</th><th scope=col>pixel781</th><th scope=col>pixel782</th><th scope=col>pixel783</th></tr></thead>\n",
       "<tbody>\n",
       "\t<tr><td>0  </td><td>0  </td><td>0  </td><td>0  </td><td>0  </td><td>0  </td><td>0  </td><td>0  </td><td>0  </td><td>0  </td><td>...</td><td>0  </td><td>0  </td><td>0  </td><td>0  </td><td>0  </td><td>0  </td><td>0  </td><td>0  </td><td>0  </td><td>0  </td></tr>\n",
       "\t<tr><td>0  </td><td>0  </td><td>0  </td><td>0  </td><td>0  </td><td>0  </td><td>0  </td><td>0  </td><td>0  </td><td>0  </td><td>...</td><td>0  </td><td>0  </td><td>0  </td><td>0  </td><td>0  </td><td>0  </td><td>0  </td><td>0  </td><td>0  </td><td>0  </td></tr>\n",
       "\t<tr><td>0  </td><td>0  </td><td>0  </td><td>0  </td><td>0  </td><td>0  </td><td>0  </td><td>0  </td><td>0  </td><td>0  </td><td>...</td><td>0  </td><td>0  </td><td>0  </td><td>0  </td><td>0  </td><td>0  </td><td>0  </td><td>0  </td><td>0  </td><td>0  </td></tr>\n",
       "\t<tr><td>0  </td><td>0  </td><td>0  </td><td>0  </td><td>0  </td><td>0  </td><td>0  </td><td>0  </td><td>0  </td><td>0  </td><td>...</td><td>0  </td><td>0  </td><td>0  </td><td>0  </td><td>0  </td><td>0  </td><td>0  </td><td>0  </td><td>0  </td><td>0  </td></tr>\n",
       "\t<tr><td>0  </td><td>0  </td><td>0  </td><td>0  </td><td>0  </td><td>0  </td><td>0  </td><td>0  </td><td>0  </td><td>0  </td><td>...</td><td>0  </td><td>0  </td><td>0  </td><td>0  </td><td>0  </td><td>0  </td><td>0  </td><td>0  </td><td>0  </td><td>0  </td></tr>\n",
       "\t<tr><td>0  </td><td>0  </td><td>0  </td><td>0  </td><td>0  </td><td>0  </td><td>0  </td><td>0  </td><td>0  </td><td>0  </td><td>...</td><td>0  </td><td>0  </td><td>0  </td><td>0  </td><td>0  </td><td>0  </td><td>0  </td><td>0  </td><td>0  </td><td>0  </td></tr>\n",
       "</tbody>\n",
       "</table>\n"
      ],
      "text/latex": [
       "\\begin{tabular}{r|lllllllllllllllllllllllllllllllllllllllllllllllllllllllllllllllllllllllllllllllllllllllllllllllllllllllllllllllllllllllllllllllllllllllllllllllllllllllllllllllllllllllllllllllllllllllllllllllllllllllllllllllllllllllllllllllllllllllllllllllllllllllllllllllllllllllllllllllllllllllllllllllllllllllllllllllllllllllllllllllllllllllllllllllllllllllllllllllllllllllllllllllllllllllllllllllllllllllllllllllllllllllllllllllllllllllllllllllllllllllllllllllllllllllllllllllllllllllllllllllllllllllllllllllllllllllllllllllllllllllllllllllllllllllllllllllllllllllllllllllllllllllllllllllllllllllllllllllllllllllllllllllllllllllllllllllllllllllllllllllllllllllllllllllllllllllllllllllllllllllllllllllllllllllllllllllllllllllllllllllllllllllllllllllllllllllllllllllllllllllllllllllllllllllllllllllll}\n",
       " label & pixel0 & pixel1 & pixel2 & pixel3 & pixel4 & pixel5 & pixel6 & pixel7 & pixel8 & ... & pixel774 & pixel775 & pixel776 & pixel777 & pixel778 & pixel779 & pixel780 & pixel781 & pixel782 & pixel783\\\\\n",
       "\\hline\n",
       "\t 0   & 0   & 0   & 0   & 0   & 0   & 0   & 0   & 0   & 0   & ... & 0   & 0   & 0   & 0   & 0   & 0   & 0   & 0   & 0   & 0  \\\\\n",
       "\t 0   & 0   & 0   & 0   & 0   & 0   & 0   & 0   & 0   & 0   & ... & 0   & 0   & 0   & 0   & 0   & 0   & 0   & 0   & 0   & 0  \\\\\n",
       "\t 0   & 0   & 0   & 0   & 0   & 0   & 0   & 0   & 0   & 0   & ... & 0   & 0   & 0   & 0   & 0   & 0   & 0   & 0   & 0   & 0  \\\\\n",
       "\t 0   & 0   & 0   & 0   & 0   & 0   & 0   & 0   & 0   & 0   & ... & 0   & 0   & 0   & 0   & 0   & 0   & 0   & 0   & 0   & 0  \\\\\n",
       "\t 0   & 0   & 0   & 0   & 0   & 0   & 0   & 0   & 0   & 0   & ... & 0   & 0   & 0   & 0   & 0   & 0   & 0   & 0   & 0   & 0  \\\\\n",
       "\t 0   & 0   & 0   & 0   & 0   & 0   & 0   & 0   & 0   & 0   & ... & 0   & 0   & 0   & 0   & 0   & 0   & 0   & 0   & 0   & 0  \\\\\n",
       "\\end{tabular}\n"
      ],
      "text/markdown": [
       "\n",
       "| label | pixel0 | pixel1 | pixel2 | pixel3 | pixel4 | pixel5 | pixel6 | pixel7 | pixel8 | ... | pixel774 | pixel775 | pixel776 | pixel777 | pixel778 | pixel779 | pixel780 | pixel781 | pixel782 | pixel783 |\n",
       "|---|---|---|---|---|---|---|---|---|---|---|---|---|---|---|---|---|---|---|---|---|\n",
       "| 0   | 0   | 0   | 0   | 0   | 0   | 0   | 0   | 0   | 0   | ... | 0   | 0   | 0   | 0   | 0   | 0   | 0   | 0   | 0   | 0   |\n",
       "| 0   | 0   | 0   | 0   | 0   | 0   | 0   | 0   | 0   | 0   | ... | 0   | 0   | 0   | 0   | 0   | 0   | 0   | 0   | 0   | 0   |\n",
       "| 0   | 0   | 0   | 0   | 0   | 0   | 0   | 0   | 0   | 0   | ... | 0   | 0   | 0   | 0   | 0   | 0   | 0   | 0   | 0   | 0   |\n",
       "| 0   | 0   | 0   | 0   | 0   | 0   | 0   | 0   | 0   | 0   | ... | 0   | 0   | 0   | 0   | 0   | 0   | 0   | 0   | 0   | 0   |\n",
       "| 0   | 0   | 0   | 0   | 0   | 0   | 0   | 0   | 0   | 0   | ... | 0   | 0   | 0   | 0   | 0   | 0   | 0   | 0   | 0   | 0   |\n",
       "| 0   | 0   | 0   | 0   | 0   | 0   | 0   | 0   | 0   | 0   | ... | 0   | 0   | 0   | 0   | 0   | 0   | 0   | 0   | 0   | 0   |\n",
       "\n"
      ],
      "text/plain": [
       "  label pixel0 pixel1 pixel2 pixel3 pixel4 pixel5 pixel6 pixel7 pixel8 ...\n",
       "1 0     0      0      0      0      0      0      0      0      0      ...\n",
       "2 0     0      0      0      0      0      0      0      0      0      ...\n",
       "3 0     0      0      0      0      0      0      0      0      0      ...\n",
       "4 0     0      0      0      0      0      0      0      0      0      ...\n",
       "5 0     0      0      0      0      0      0      0      0      0      ...\n",
       "6 0     0      0      0      0      0      0      0      0      0      ...\n",
       "  pixel774 pixel775 pixel776 pixel777 pixel778 pixel779 pixel780 pixel781\n",
       "1 0        0        0        0        0        0        0        0       \n",
       "2 0        0        0        0        0        0        0        0       \n",
       "3 0        0        0        0        0        0        0        0       \n",
       "4 0        0        0        0        0        0        0        0       \n",
       "5 0        0        0        0        0        0        0        0       \n",
       "6 0        0        0        0        0        0        0        0       \n",
       "  pixel782 pixel783\n",
       "1 0        0       \n",
       "2 0        0       \n",
       "3 0        0       \n",
       "4 0        0       \n",
       "5 0        0       \n",
       "6 0        0       "
      ]
     },
     "metadata": {},
     "output_type": "display_data"
    }
   ],
   "source": [
    "head(unlabelled_train)  # a glimpse of the unlabelled data"
   ]
  },
  {
   "cell_type": "markdown",
   "metadata": {},
   "source": [
    "## Drop NA's"
   ]
  },
  {
   "cell_type": "markdown",
   "metadata": {},
   "source": [
    "**Since this is image data the data is in compressed format and there should be no loss of data, so we drop the NA's so as to keep the original information compressed, so the decoder can retain the original information from the compressed data and there is no loss of information and to remove noise.**"
   ]
  },
  {
   "cell_type": "code",
   "execution_count": 6,
   "metadata": {},
   "outputs": [],
   "source": [
    "labelled_train<-labelled_train%>% drop_na\n",
    "unlabelled_train<-unlabelled_train%>%drop_na"
   ]
  },
  {
   "cell_type": "markdown",
   "metadata": {},
   "source": [
    "## Standardize the data"
   ]
  },
  {
   "cell_type": "markdown",
   "metadata": {},
   "source": [
    "**We standardize the data so as to use the compressed data and pass it to the decoder to reconstruct the original information**"
   ]
  },
  {
   "cell_type": "code",
   "execution_count": 7,
   "metadata": {},
   "outputs": [],
   "source": [
    "## factorize the labels of the labelled and unlabelled data so as to make it easier to train the models for\n",
    "## reconstruction and classification using Neural Nets.\n",
    "\n",
    "\n",
    "labelled_train$label <- as.factor(labelled_train$label)\n",
    "unlabelled_train$label <- as.factor(unlabelled_train$label)\n"
   ]
  },
  {
   "cell_type": "code",
   "execution_count": 8,
   "metadata": {},
   "outputs": [],
   "source": [
    "labelled_train <- normalize(labelled_train, method = \"standardize\", range = c(0, 1), margin = 2L)\n",
    "unlabelled_train <- normalize(unlabelled_train, method = \"standardize\", range = c(0, 1), margin = 2L)\n"
   ]
  },
  {
   "cell_type": "code",
   "execution_count": 9,
   "metadata": {},
   "outputs": [],
   "source": [
    "# Write the standardized and noise free documents to a separate version of the file.\n",
    "\n",
    "write.csv(labelled_train, file = \"Task2C_labeled_version_1.csv\",row.names = FALSE)\n",
    "write.csv(unlabelled_train, file = \"Task2C_unlabeled_version_1.csv\",row.names = FALSE)"
   ]
  },
  {
   "cell_type": "markdown",
   "metadata": {},
   "source": [
    "`Create an error function to calculate the classification error which is the difference between the reconstructed data nd the original data`."
   ]
  },
  {
   "cell_type": "code",
   "execution_count": 10,
   "metadata": {},
   "outputs": [],
   "source": [
    "error.rate <- function(Y1, T1){\n",
    "  if (nrow(Y1)!=nrow(T1)){\n",
    "    stop('error.rate: size of true lables and predicted labels mismatch')\n",
    "  }\n",
    "  return (sum(T1!=Y1)/nrow(T1))\n",
    "    }"
   ]
  },
  {
   "cell_type": "markdown",
   "metadata": {},
   "source": [
    "**Create an empty matrix to record the reconstruction error in the matrix and read/load the transformed dataset versions from the folder and import it using h20.**"
   ]
  },
  {
   "cell_type": "code",
   "execution_count": 11,
   "metadata": {},
   "outputs": [
    {
     "name": "stdout",
     "output_type": "stream",
     "text": [
      "  |======================================================================| 100%\n",
      "  |======================================================================| 100%\n",
      "  |======================================================================| 100%\n"
     ]
    }
   ],
   "source": [
    "reconstruction.train.error <- matrix(NA, nrow=25, ncol=2)\n",
    "\n",
    "# Students: Use the \"absolute\" path to the datasets on your machine (important)\n",
    "labeled.frame <- h2o.importFile(path = 'Task2C_labeled_version_1.csv' ,sep=',')\n",
    "unlabeled.frame <- h2o.importFile(path = 'Task2C_unlabeled_version_1.csv' ,sep=',')\n",
    "test.frame <- h2o.importFile(path = 'Task2C_test.csv' ,sep=',')"
   ]
  },
  {
   "cell_type": "markdown",
   "metadata": {},
   "source": [
    "**Create a new train dataframe which is a complete dataframe for the unlabelled data and the labelled data without the labels in order to train the autoencoder**"
   ]
  },
  {
   "cell_type": "code",
   "execution_count": 12,
   "metadata": {},
   "outputs": [],
   "source": [
    "labeled.frame[,1] <- as.factor(labeled.frame$label)\n",
    "unlabeled.frame[,1] <- NA\n",
    "train.frame <- h2o.rbind(labeled.frame[,-1], unlabeled.frame[,-1])\n",
    "test.frame[,1] <- as.factor(test.frame$label)\n"
   ]
  },
  {
   "cell_type": "markdown",
   "metadata": {},
   "source": [
    "## Part 2 and Part 3 - Train the Autoencoder"
   ]
  },
  {
   "cell_type": "code",
   "execution_count": 13,
   "metadata": {},
   "outputs": [
    {
     "name": "stdout",
     "output_type": "stream",
     "text": [
      "  |======================================================================| 100%\n",
      "  |======================================================================| 100%\n",
      "  |======================================================================| 100%\n",
      "  |======================================================================| 100%\n",
      "  |======================================================================| 100%\n",
      "  |======================================================================| 100%\n",
      "  |======================================================================| 100%\n",
      "  |======================================================================| 100%\n",
      "  |======================================================================| 100%\n",
      "  |======================================================================| 100%\n",
      "  |======================================================================| 100%\n",
      "  |======================================================================| 100%\n",
      "  |======================================================================| 100%\n",
      "  |======================================================================| 100%\n",
      "  |======================================================================| 100%\n",
      "  |======================================================================| 100%\n",
      "  |======================================================================| 100%\n",
      "  |======================================================================| 100%\n",
      "  |======================================================================| 100%\n",
      "  |======================================================================| 100%\n",
      "  |======================================================================| 100%\n",
      "  |======================================================================| 100%\n",
      "  |======================================================================| 100%\n",
      "  |======================================================================| 100%\n",
      "  |======================================================================| 100%\n"
     ]
    },
    {
     "data": {
      "image/png": "[encoded data removed]",
      "text/plain": [
       "plot without title"
      ]
     },
     "metadata": {},
     "output_type": "display_data"
    }
   ],
   "source": [
    "i <- 1\n",
    "\n",
    "for (k in seq(20, 500, 20)){\n",
    "  # build a neural network classifier based on the labeled training data\n",
    " \n",
    "  NN.model_encoder <- h2o.deeplearning(    \n",
    "    x = 2:ncol(train.frame), # select all pixels + extra features\n",
    "    training_frame = train.frame, # specify the frame (imported file)    \n",
    "    hidden = c(k), # number of layers and their units\n",
    "    epochs = 50, # maximum number of epoches  \n",
    "    activation = 'Tanh', # activation function\n",
    "    autoencoder = TRUE, # is it an autoencoder? Yes!\n",
    "    l2 = 0.1)\n",
    "    reconstruction_error <- mean(h2o.anomaly(NN.model_encoder, train.frame))\n",
    "    reconstruction.train.error[i, 1] <- k\n",
    "    reconstruction.train.error[i, 2] <- reconstruction_error\n",
    "    i=i+1\n",
    "}\n",
    "\n",
    "reconstruction.train.error <- data.frame(reconstruction.train.error)\n",
    "ggplot(data=reconstruction.train.error,aes(x=X1,y=X2),color='red') + geom_line() + labs(x=\"Number of Neurons\") + labs(y=\"Reconstruction error\") + labs(title = \"Reconstruction Error v/s Number of Neurons\")\n"
   ]
  },
  {
   "cell_type": "markdown",
   "metadata": {},
   "source": [
    "## Graph evaluation"
   ]
  },
  {
   "cell_type": "code",
   "execution_count": null,
   "metadata": {},
   "outputs": [],
   "source": []
  },
  {
   "cell_type": "code",
   "execution_count": null,
   "metadata": {},
   "outputs": [],
   "source": []
  },
  {
   "cell_type": "markdown",
   "metadata": {},
   "source": [
    "## Part 4 - Build a 3 layer Neural Network with 100 units in the hidden layer\n"
   ]
  },
  {
   "cell_type": "code",
   "execution_count": 14,
   "metadata": {},
   "outputs": [
    {
     "name": "stdout",
     "output_type": "stream",
     "text": [
      "  |======================================================================| 100%\n"
     ]
    }
   ],
   "source": [
    "NN.model <- h2o.deeplearning(    \n",
    "  x = 2:ncol(labeled.frame), # select all pixels + extra features\n",
    "  y = 1,\n",
    "  training_frame = labeled.frame, # specify the frame (imported file)    \n",
    "  hidden = c(100), # number of layers and their units\n",
    "  epochs = 50, # maximum number of epochs  \n",
    "  activation = 'Tanh', # activation function\n",
    "  autoencoder = FALSE, # is it an autoencoder? No!\n",
    "  l2 = 0.1\n",
    ")"
   ]
  },
  {
   "cell_type": "code",
   "execution_count": 15,
   "metadata": {},
   "outputs": [
    {
     "name": "stdout",
     "output_type": "stream",
     "text": [
      "  |======================================================================| 100%\n"
     ]
    },
    {
     "data": {
      "text/html": [
       "0.688"
      ],
      "text/latex": [
       "0.688"
      ],
      "text/markdown": [
       "0.688"
      ],
      "text/plain": [
       "[1] 0.688"
      ]
     },
     "metadata": {},
     "output_type": "display_data"
    }
   ],
   "source": [
    "pred_labels <- h2o.predict(NN.model, test.frame)$predict\n",
    "error.rate(test.frame$label, pred_labels)"
   ]
  },
  {
   "cell_type": "code",
   "execution_count": 16,
   "metadata": {},
   "outputs": [],
   "source": [
    "reconstruction.test.error <- matrix(NA, nrow=25, ncol=2)\n",
    "\n"
   ]
  },
  {
   "cell_type": "code",
   "execution_count": 17,
   "metadata": {},
   "outputs": [
    {
     "name": "stdout",
     "output_type": "stream",
     "text": [
      "  |======================================================================| 100%\n",
      "  |======================================================================| 100%\n",
      "  |======================================================================| 100%\n",
      "  |======================================================================| 100%\n",
      "  |======================================================================| 100%\n",
      "  |======================================================================| 100%\n",
      "  |======================================================================| 100%\n",
      "  |======================================================================| 100%\n",
      "  |======================================================================| 100%\n",
      "  |======================================================================| 100%\n",
      "  |======================================================================| 100%\n",
      "  |======================================================================| 100%\n",
      "  |======================================================================| 100%\n",
      "  |======================================================================| 100%\n",
      "  |======================================================================| 100%\n",
      "  |======================================================================| 100%\n",
      "  |======================================================================| 100%\n",
      "  |======================================================================| 100%\n",
      "  |======================================================================| 100%\n",
      "  |======================================================================| 100%\n",
      "  |======================================================================| 100%\n",
      "  |======================================================================| 100%\n",
      "  |======================================================================| 100%\n",
      "  |======================================================================| 100%\n",
      "  |======================================================================| 100%\n",
      "  |======================================================================| 100%\n",
      "  |======================================================================| 100%\n",
      "  |======================================================================| 100%\n",
      "  |======================================================================| 100%\n",
      "  |======================================================================| 100%\n",
      "  |======================================================================| 100%\n",
      "  |======================================================================| 100%\n",
      "  |======================================================================| 100%\n",
      "  |======================================================================| 100%\n",
      "  |======================================================================| 100%\n",
      "  |======================================================================| 100%\n",
      "  |======================================================================| 100%\n",
      "  |======================================================================| 100%\n",
      "  |======================================================================| 100%\n",
      "  |======================================================================| 100%\n",
      "  |======================================================================| 100%\n",
      "  |======================================================================| 100%\n",
      "  |======================================================================| 100%\n",
      "  |======================================================================| 100%\n",
      "  |======================================================================| 100%\n",
      "  |======================================================================| 100%\n",
      "  |======================================================================| 100%\n",
      "  |======================================================================| 100%\n",
      "  |======================================================================| 100%\n",
      "  |======================================================================| 100%\n",
      "  |======================================================================| 100%\n",
      "  |======================================================================| 100%\n",
      "  |======================================================================| 100%\n",
      "  |======================================================================| 100%\n",
      "  |======================================================================| 100%\n",
      "  |======================================================================| 100%\n",
      "  |======================================================================| 100%\n",
      "  |======================================================================| 100%\n",
      "  |======================================================================| 100%\n",
      "  |======================================================================| 100%\n",
      "  |======================================================================| 100%\n",
      "  |======================================================================| 100%\n",
      "  |======================================================================| 100%\n",
      "  |======================================================================| 100%\n",
      "  |======================================================================| 100%\n",
      "  |======================================================================| 100%\n",
      "  |======================================================================| 100%\n",
      "  |======================================================================| 100%\n",
      "  |======================================================================| 100%\n",
      "  |======================================================================| 100%\n",
      "  |======================================================================| 100%\n",
      "  |======================================================================| 100%\n",
      "  |======================================================================| 100%\n",
      "  |======================================================================| 100%\n",
      "  |======================================================================| 100%\n",
      "  |======================================================================| 100%\n",
      "  |======================================================================| 100%\n",
      "  |======================================================================| 100%\n",
      "  |======================================================================| 100%\n",
      "  |======================================================================| 100%\n",
      "  |======================================================================| 100%\n",
      "  |======================================================================| 100%\n",
      "  |======================================================================| 100%\n",
      "  |======================================================================| 100%\n",
      "  |======================================================================| 100%\n",
      "  |======================================================================| 100%\n",
      "  |======================================================================| 100%\n",
      "  |======================================================================| 100%\n",
      "  |======================================================================| 100%\n",
      "  |======================================================================| 100%\n",
      "  |======================================================================| 100%\n",
      "  |======================================================================| 100%\n",
      "  |======================================================================| 100%\n",
      "  |======================================================================| 100%\n",
      "  |======================================================================| 100%\n",
      "  |======================================================================| 100%\n",
      "  |======================================================================| 100%\n",
      "  |======================================================================| 100%\n",
      "  |======================================================================| 100%\n",
      "  |======================================================================| 100%\n"
     ]
    }
   ],
   "source": [
    "classification_test.error <- matrix(NA, nrow=25, ncol=1)\n",
    "\n",
    "\n",
    "for (k in seq(20, 500, 20)){\n",
    "\n",
    "  ## Autoencoder  \n",
    "  NN.model_encoder <- h2o.deeplearning(    \n",
    "  x = 2:ncol(train.frame), # select all pixels + extra features\n",
    "  training_frame = train.frame, # specify the frame (imported file)    \n",
    "  hidden = c(k), # number of layers and their units\n",
    "  epochs = 50, # maximum number of epoches  \n",
    "  activation = 'Tanh', # activation function \n",
    "  autoencoder = TRUE, # is it an autoencoder? Yes!\n",
    "  l2 = 0.1\n",
    ")\n",
    "  \n",
    "\n",
    "  \n",
    "  ## augmented dataframe with features of autoencoder and labelled data for NN\n",
    "    ## h20.deepfeatures is used to access the middle hidden layer\n",
    "  labeled.frame.extra <- h2o.cbind(labeled.frame,as.numeric(h2o.deepfeatures(NN.model_encoder,labeled.frame,layer=1)))  \n",
    "  \n",
    "  ## NN model for augmented labelled data set\n",
    "     # select all pixels + extra features, here extra features being the neurons of the hidden layer\n",
    "  NN.model_NN <- h2o.deeplearning(    \n",
    "  x = 2:ncol(labeled.frame.extra),\n",
    "  y = 1,\n",
    "  training_frame = labeled.frame.extra, # specify the frame (imported file)    \n",
    "  hidden = c(k), # number of layers and their units\n",
    "  epochs = 50, # maximum number of epochs  \n",
    "  activation = 'Tanh', # activation function \n",
    "  autoencoder = FALSE, # is it an autoencoder? No!\n",
    "  l2 = 0.1\n",
    ")\n",
    "  \n",
    "  #make test data predictions and calculate errors\n",
    "  test_preds <- h2o.predict(NN.model_NN, test.frame)$predict\n",
    "  classification_test.error[k/20] <-error.rate(test.frame$label,  test_preds)  \n",
    "}"
   ]
  },
  {
   "cell_type": "code",
   "execution_count": 18,
   "metadata": {},
   "outputs": [
    {
     "data": {
      "text/html": [
       "25"
      ],
      "text/latex": [
       "25"
      ],
      "text/markdown": [
       "25"
      ],
      "text/plain": [
       "[1] 25"
      ]
     },
     "metadata": {},
     "output_type": "display_data"
    }
   ],
   "source": [
    "nrow(classification_test.error)"
   ]
  },
  {
   "cell_type": "code",
   "execution_count": 21,
   "metadata": {},
   "outputs": [],
   "source": [
    "image_data <- data.frame('K'= seq(20,500,20),'Classification_Error'=classification_test.error)"
   ]
  },
  {
   "cell_type": "code",
   "execution_count": 22,
   "metadata": {},
   "outputs": [
    {
     "data": {
      "text/html": [
       "<table>\n",
       "<thead><tr><th scope=col>K</th><th scope=col>Classification_Error</th></tr></thead>\n",
       "<tbody>\n",
       "\t<tr><td> 20  </td><td>0.655</td></tr>\n",
       "\t<tr><td> 40  </td><td>0.716</td></tr>\n",
       "\t<tr><td> 60  </td><td>0.738</td></tr>\n",
       "\t<tr><td> 80  </td><td>0.660</td></tr>\n",
       "\t<tr><td>100  </td><td>0.566</td></tr>\n",
       "\t<tr><td>120  </td><td>0.583</td></tr>\n",
       "\t<tr><td>140  </td><td>0.578</td></tr>\n",
       "\t<tr><td>160  </td><td>0.640</td></tr>\n",
       "\t<tr><td>180  </td><td>0.626</td></tr>\n",
       "\t<tr><td>200  </td><td>0.574</td></tr>\n",
       "\t<tr><td>220  </td><td>0.602</td></tr>\n",
       "\t<tr><td>240  </td><td>0.603</td></tr>\n",
       "\t<tr><td>260  </td><td>0.582</td></tr>\n",
       "\t<tr><td>280  </td><td>0.690</td></tr>\n",
       "\t<tr><td>300  </td><td>0.678</td></tr>\n",
       "\t<tr><td>320  </td><td>0.395</td></tr>\n",
       "\t<tr><td>340  </td><td>0.557</td></tr>\n",
       "\t<tr><td>360  </td><td>0.614</td></tr>\n",
       "\t<tr><td>380  </td><td>0.611</td></tr>\n",
       "\t<tr><td>400  </td><td>0.643</td></tr>\n",
       "\t<tr><td>420  </td><td>0.744</td></tr>\n",
       "\t<tr><td>440  </td><td>0.505</td></tr>\n",
       "\t<tr><td>460  </td><td>0.594</td></tr>\n",
       "\t<tr><td>480  </td><td>0.608</td></tr>\n",
       "\t<tr><td>500  </td><td>0.593</td></tr>\n",
       "</tbody>\n",
       "</table>\n"
      ],
      "text/latex": [
       "\\begin{tabular}{r|ll}\n",
       " K & Classification\\_Error\\\\\n",
       "\\hline\n",
       "\t  20   & 0.655\\\\\n",
       "\t  40   & 0.716\\\\\n",
       "\t  60   & 0.738\\\\\n",
       "\t  80   & 0.660\\\\\n",
       "\t 100   & 0.566\\\\\n",
       "\t 120   & 0.583\\\\\n",
       "\t 140   & 0.578\\\\\n",
       "\t 160   & 0.640\\\\\n",
       "\t 180   & 0.626\\\\\n",
       "\t 200   & 0.574\\\\\n",
       "\t 220   & 0.602\\\\\n",
       "\t 240   & 0.603\\\\\n",
       "\t 260   & 0.582\\\\\n",
       "\t 280   & 0.690\\\\\n",
       "\t 300   & 0.678\\\\\n",
       "\t 320   & 0.395\\\\\n",
       "\t 340   & 0.557\\\\\n",
       "\t 360   & 0.614\\\\\n",
       "\t 380   & 0.611\\\\\n",
       "\t 400   & 0.643\\\\\n",
       "\t 420   & 0.744\\\\\n",
       "\t 440   & 0.505\\\\\n",
       "\t 460   & 0.594\\\\\n",
       "\t 480   & 0.608\\\\\n",
       "\t 500   & 0.593\\\\\n",
       "\\end{tabular}\n"
      ],
      "text/markdown": [
       "\n",
       "| K | Classification_Error |\n",
       "|---|---|\n",
       "|  20   | 0.655 |\n",
       "|  40   | 0.716 |\n",
       "|  60   | 0.738 |\n",
       "|  80   | 0.660 |\n",
       "| 100   | 0.566 |\n",
       "| 120   | 0.583 |\n",
       "| 140   | 0.578 |\n",
       "| 160   | 0.640 |\n",
       "| 180   | 0.626 |\n",
       "| 200   | 0.574 |\n",
       "| 220   | 0.602 |\n",
       "| 240   | 0.603 |\n",
       "| 260   | 0.582 |\n",
       "| 280   | 0.690 |\n",
       "| 300   | 0.678 |\n",
       "| 320   | 0.395 |\n",
       "| 340   | 0.557 |\n",
       "| 360   | 0.614 |\n",
       "| 380   | 0.611 |\n",
       "| 400   | 0.643 |\n",
       "| 420   | 0.744 |\n",
       "| 440   | 0.505 |\n",
       "| 460   | 0.594 |\n",
       "| 480   | 0.608 |\n",
       "| 500   | 0.593 |\n",
       "\n"
      ],
      "text/plain": [
       "   K   Classification_Error\n",
       "1   20 0.655               \n",
       "2   40 0.716               \n",
       "3   60 0.738               \n",
       "4   80 0.660               \n",
       "5  100 0.566               \n",
       "6  120 0.583               \n",
       "7  140 0.578               \n",
       "8  160 0.640               \n",
       "9  180 0.626               \n",
       "10 200 0.574               \n",
       "11 220 0.602               \n",
       "12 240 0.603               \n",
       "13 260 0.582               \n",
       "14 280 0.690               \n",
       "15 300 0.678               \n",
       "16 320 0.395               \n",
       "17 340 0.557               \n",
       "18 360 0.614               \n",
       "19 380 0.611               \n",
       "20 400 0.643               \n",
       "21 420 0.744               \n",
       "22 440 0.505               \n",
       "23 460 0.594               \n",
       "24 480 0.608               \n",
       "25 500 0.593               "
      ]
     },
     "metadata": {},
     "output_type": "display_data"
    }
   ],
   "source": [
    "image_data"
   ]
  },
  {
   "cell_type": "code",
   "execution_count": 24,
   "metadata": {},
   "outputs": [
    {
     "data": {
      "image/png": "[encoded data removed]",
      "text/plain": [
       "plot without title"
      ]
     },
     "metadata": {},
     "output_type": "display_data"
    }
   ],
   "source": [
    "ggplot(data = image_data,aes(x=image_data[,1],y=image_data[,2])) + geom_line(color = 'green') + geom_point()+\n",
    "    ggtitle('Classification Error vs K')+\n",
    "    ylab('Error Rate')+ xlab('K')"
   ]
  },
  {
   "cell_type": "code",
   "execution_count": null,
   "metadata": {},
   "outputs": [],
   "source": []
  }
 ],
 "metadata": {
  "kernelspec": {
   "display_name": "R",
   "language": "R",
   "name": "ir"
  },
  "language_info": {
   "codemirror_mode": "r",
   "file_extension": ".r",
   "mimetype": "text/x-r-source",
   "name": "R",
   "pygments_lexer": "r",
   "version": "3.4.4"
  }
 },
 "nbformat": 4,
 "nbformat_minor": 2
}
